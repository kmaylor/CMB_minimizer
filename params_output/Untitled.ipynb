{
 "cells": [
  {
   "cell_type": "code",
   "execution_count": 2,
   "metadata": {
    "collapsed": false
   },
   "outputs": [],
   "source": [
    "import json\n",
    "data_params_150x150 = json.load(open(\"data_params150x150.txt\"))\n",
    "data_params_150x143 = json.load(open(\"data_params150x143.txt\"))\n",
    "data_params_143x143 = json.load(open(\"data_params143x143.txt\"))\n"
   ]
  },
  {
   "cell_type": "code",
   "execution_count": 5,
   "metadata": {
    "collapsed": true
   },
   "outputs": [],
   "source": [
    "sim_params_150x150 = json.load(open(\"sim_params150x150.txt\"))\n",
    "sim_params_150x143 = json.load(open(\"sim_params150x143.txt\"))\n",
    "sim_params_143x143 = json.load(open(\"sim_params143x143.txt\"))"
   ]
  },
  {
   "cell_type": "code",
   "execution_count": 13,
   "metadata": {
    "collapsed": false
   },
   "outputs": [
    {
     "data": {
      "text/plain": [
       "{u'Acib': [5.09160086039482, 5.053542236884621],\n",
       " u'Aps': [19.756160332110312, 19.29410980750464],\n",
       " u'Asz': [5.845235185987299, 5.641280227475519],\n",
       " u'clamp': [1.808550004507019, 1.9719829184699522],\n",
       " u'ns': [0.9966501646680546, 0.9018800687869124],\n",
       " u'ombh2': [0.023133490882293134, 0.022625228378102602],\n",
       " u'ommh2': [0.12903048822242047, 0.15362961542906112],\n",
       " u'tau': [0.06659478576630073, 0.06612090164956963],\n",
       " u'theta': [1.0417010008914875, 1.0372919655183042]}"
      ]
     },
     "execution_count": 13,
     "metadata": {},
     "output_type": "execute_result"
    }
   ],
   "source": [
    "sim_params_150x143"
   ]
  },
  {
   "cell_type": "code",
   "execution_count": 18,
   "metadata": {
    "collapsed": false
   },
   "outputs": [],
   "source": [
    "from numpy import mean\n",
    "sim_mean_150x150={k:mean(v) for k,v in sim_params_150x150.iteritems()}"
   ]
  },
  {
   "cell_type": "code",
   "execution_count": 19,
   "metadata": {
    "collapsed": false
   },
   "outputs": [
    {
     "data": {
      "text/plain": [
       "{u'Acib': 5.2162914606263993,\n",
       " u'Aps': 19.547151817050683,\n",
       " u'Asz': 5.9298748910302308,\n",
       " u'clamp': 1.9060932040592107,\n",
       " u'ns': 0.957521033710238,\n",
       " u'ombh2': 0.02289233183456732,\n",
       " u'ommh2': 0.13666666423964693,\n",
       " u'tau': 0.066896626328113828,\n",
       " u'theta': 1.0409268484687879}"
      ]
     },
     "execution_count": 19,
     "metadata": {},
     "output_type": "execute_result"
    }
   ],
   "source": [
    "sim_mean_150x150"
   ]
  },
  {
   "cell_type": "code",
   "execution_count": 20,
   "metadata": {
    "collapsed": false
   },
   "outputs": [],
   "source": [
    "sim_mean_150x143={k:mean(v) for k,v in sim_params_150x143.iteritems()}"
   ]
  },
  {
   "cell_type": "code",
   "execution_count": 21,
   "metadata": {
    "collapsed": false
   },
   "outputs": [
    {
     "data": {
      "text/plain": [
       "{u'Acib': 5.3313485408359931,\n",
       " u'Aps': 19.745111422285859,\n",
       " u'Asz': 6.2201395739273995,\n",
       " u'clamp': 1.8856148782777562,\n",
       " u'ns': 0.9630032750269788,\n",
       " u'ombh2': 0.022620444731842812,\n",
       " u'ommh2': 0.13772924936704412,\n",
       " u'tau': 0.067113593391834397,\n",
       " u'theta': 1.0406757103201247}"
      ]
     },
     "execution_count": 21,
     "metadata": {},
     "output_type": "execute_result"
    }
   ],
   "source": [
    "sim_mean_150x143"
   ]
  },
  {
   "cell_type": "code",
   "execution_count": 24,
   "metadata": {
    "collapsed": false
   },
   "outputs": [],
   "source": [
    "from numpy import mean\n",
    "sim_mean_143x143={k:mean(v) for k,v in sim_params_143x143.iteritems()}"
   ]
  },
  {
   "cell_type": "code",
   "execution_count": 25,
   "metadata": {
    "collapsed": false
   },
   "outputs": [
    {
     "data": {
      "text/plain": [
       "{u'Acib': 5.0725715486397203,\n",
       " u'Aps': 19.525135069807476,\n",
       " u'Asz': 5.7432577067314092,\n",
       " u'clamp': 1.8902664614884856,\n",
       " u'ns': 0.94926511672748348,\n",
       " u'ombh2': 0.022879359630197868,\n",
       " u'ommh2': 0.14133005182574079,\n",
       " u'tau': 0.066357843707935182,\n",
       " u'theta': 1.0394964832048958}"
      ]
     },
     "execution_count": 25,
     "metadata": {},
     "output_type": "execute_result"
    }
   ],
   "source": [
    "sim_mean_143x143"
   ]
  },
  {
   "cell_type": "code",
   "execution_count": null,
   "metadata": {
    "collapsed": true
   },
   "outputs": [],
   "source": []
  }
 ],
 "metadata": {
  "kernelspec": {
   "display_name": "Python 2",
   "language": "python",
   "name": "python2"
  },
  "language_info": {
   "codemirror_mode": {
    "name": "ipython",
    "version": 2
   },
   "file_extension": ".py",
   "mimetype": "text/x-python",
   "name": "python",
   "nbconvert_exporter": "python",
   "pygments_lexer": "ipython2",
   "version": "2.7.6"
  }
 },
 "nbformat": 4,
 "nbformat_minor": 0
}
